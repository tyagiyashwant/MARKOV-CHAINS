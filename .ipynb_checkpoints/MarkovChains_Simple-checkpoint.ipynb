{
 "cells": [
  {
   "cell_type": "code",
   "execution_count": 1,
   "metadata": {
    "collapsed": true
   },
   "outputs": [],
   "source": [
    "import numpy as np\n",
    "import re\n",
    "from matplotlib import pyplot as plt\n",
    "%matplotlib inline\n",
    "import random"
   ]
  },
  {
   "cell_type": "code",
   "execution_count": 2,
   "metadata": {
    "collapsed": true
   },
   "outputs": [],
   "source": [
    "f = open('../../input.txt', 'r')\n",
    "ds = f.read()\n",
    "f.close()"
   ]
  },
  {
   "cell_type": "code",
   "execution_count": 7,
   "metadata": {
    "collapsed": false
   },
   "outputs": [
    {
     "name": "stdout",
     "output_type": "stream",
     "text": [
      "1$$$2$$$3\n"
     ]
    }
   ],
   "source": [
    "# for ix in ds[:1000].split('\\n'):\n",
    "#    print [ix.strip()]\n",
    "\n",
    "print '$$$'.join(['1', '2', '3'])\n",
    "# print ds.index('In the year 1878 I took my degr')"
   ]
  },
  {
   "cell_type": "code",
   "execution_count": 234,
   "metadata": {
    "collapsed": false
   },
   "outputs": [
    {
     "name": "stderr",
     "output_type": "stream",
     "text": [
      "/usr/local/lib/python2.7/dist-packages/IPython/core/interactiveshell.py:2717: DtypeWarning: Columns (15,30,31,32,36,37,38,42,43,44,45,46,47,50,51,52,56,57,58,59,60,61,62,63,64,65,66,67) have mixed types. Specify dtype option on import or set low_memory=False.\n",
      "  interactivity=interactivity, compiler=compiler, result=result)\n"
     ]
    }
   ],
   "source": [
    "# print ds.index('A STUDY IN SCARLET')\n",
    "start = 3433\n",
    "length = 50000\n",
    "\n",
    "data = ' '.join([ix.strip() for ix in ds[start:start+length].split('\\n')]).lower()\n",
    "\n",
    "import pandas as pd\n",
    "df = pd.read_csv('../../trump_tw.csv')['text']\n",
    "data = '. '.join([str(ix) for ix in df]).lower()\n"
   ]
  },
  {
   "cell_type": "code",
   "execution_count": 235,
   "metadata": {
    "collapsed": false
   },
   "outputs": [
    {
     "data": {
      "text/plain": [
       "\"read a great interview with donald trump that appeared in the new york times magazine: http://tinyurl.com/qsx4o6. congratulations to evan lysacek for being nominated si sportsman of the year. he's a great guy, and he has my vote!  #evanforsi. i was on the view this morning. we talked about the apprentice. tonight's episode is a great one--tough, exciting and surprising. 10 pm/nbc. tomorrow night's episode of the apprentice delivers excitement at qvc along with appearances by isaac mizrahi and cathie black. 10 pm on nbc. donald trump partners with tv1 on new reality series entitled, omarosa's ultimate merger: http://tinyurl.com/yk5m3lc. i'll be appearing on larry king live for his final show, thursday night at 9 p.m., cnn. larry's been on tv for 25 years.... i'll be on the late show with david letterman tonight--be sure to tune in for a great show. 11:30 pm on cbs.. watch the miss universe competition live from the bahamas - sunday, 8/23 @ 9pm (et) on nbc: http://tinyurl.com/mrzad9. wat\""
      ]
     },
     "execution_count": 235,
     "metadata": {},
     "output_type": "execute_result"
    }
   ],
   "source": [
    "data[:1000]"
   ]
  },
  {
   "cell_type": "code",
   "execution_count": 236,
   "metadata": {
    "collapsed": false
   },
   "outputs": [
    {
     "name": "stdout",
     "output_type": "stream",
     "text": [
      "3713941\n",
      "148\n"
     ]
    }
   ],
   "source": [
    "# print data\n",
    "print len(data)\n",
    "\n",
    "print len(set(data))\n",
    "# print set(data)"
   ]
  },
  {
   "cell_type": "code",
   "execution_count": 237,
   "metadata": {
    "collapsed": false
   },
   "outputs": [],
   "source": [
    "T = {}\n",
    "\n",
    "# define order of the Markov chain\n",
    "order = 6\n",
    "\n",
    "for ix in range(len(data)-order):\n",
    "    # get the current context\n",
    "    ctx = data[ix:ix+order]\n",
    "    \n",
    "    # get the future val\n",
    "    future_val = data[ix+order]\n",
    "    \n",
    "    # check if the context exists\n",
    "    if T.get(ctx) is None:\n",
    "        T[ctx] = {}\n",
    "        T[ctx][future_val] = 1\n",
    "    else:\n",
    "        # check if the future_val key exists\n",
    "        if T[ctx].get(future_val) is None:\n",
    "            T[ctx][future_val] = 1\n",
    "        else:\n",
    "            T[ctx][future_val] += 1"
   ]
  },
  {
   "cell_type": "code",
   "execution_count": 238,
   "metadata": {
    "collapsed": false
   },
   "outputs": [],
   "source": [
    "# print T"
   ]
  },
  {
   "cell_type": "code",
   "execution_count": 239,
   "metadata": {
    "collapsed": false
   },
   "outputs": [
    {
     "data": {
      "text/plain": [
       "726460"
      ]
     },
     "execution_count": 239,
     "metadata": {},
     "output_type": "execute_result"
    }
   ],
   "source": [
    "len(T.keys())"
   ]
  },
  {
   "cell_type": "code",
   "execution_count": 241,
   "metadata": {
    "collapsed": false,
    "scrolled": false
   },
   "outputs": [],
   "source": [
    "for kx in T.keys():\n",
    "    s = float(sum(T[kx].values()))\n",
    "    \n",
    "    for k in T[kx].keys():\n",
    "        T[kx][k] = T[kx][k]/s\n",
    "# print T['h']"
   ]
  },
  {
   "cell_type": "code",
   "execution_count": 242,
   "metadata": {
    "collapsed": false,
    "scrolled": false
   },
   "outputs": [],
   "source": [
    "# T['t']"
   ]
  },
  {
   "cell_type": "code",
   "execution_count": null,
   "metadata": {
    "collapsed": true
   },
   "outputs": [],
   "source": []
  },
  {
   "cell_type": "code",
   "execution_count": null,
   "metadata": {
    "collapsed": true
   },
   "outputs": [],
   "source": []
  },
  {
   "cell_type": "code",
   "execution_count": 243,
   "metadata": {
    "collapsed": false
   },
   "outputs": [
    {
     "data": {
      "image/png": "[encoded data removed]",
      "text/plain": [
       "<matplotlib.figure.Figure at 0x7f5248ee0b50>"
      ]
     },
     "metadata": {},
     "output_type": "display_data"
    }
   ],
   "source": [
    "def temp_sample(probs, temp=1.0):\n",
    "    probs = np.asarray(list(probs))\n",
    "    exp_probs = np.exp(np.log(probs) / temp)\n",
    "    \n",
    "    return list(exp_probs / exp_probs.sum())\n",
    "\n",
    "p = [0.1, 0.1, 0.4, 0.2, 0.15, 0.05]\n",
    "q = temp_sample(p, 0.50)\n",
    "\n",
    "plt.plot(p, 'go-')\n",
    "plt.plot(q, 'r*-')\n",
    "\n",
    "plt.show()"
   ]
  },
  {
   "cell_type": "code",
   "execution_count": 244,
   "metadata": {
    "collapsed": false
   },
   "outputs": [],
   "source": [
    "def generate_next(ctx, diversity=1.0):    \n",
    "    possible = T.get(ctx)\n",
    "    \n",
    "    if possible is None:\n",
    "        return ' '\n",
    "    diverse_probs = temp_sample(possible.values(), temp=diversity)\n",
    "    return np.random.choice(possible.keys(), p=diverse_probs)"
   ]
  },
  {
   "cell_type": "code",
   "execution_count": 245,
   "metadata": {
    "collapsed": false
   },
   "outputs": [
    {
     "name": "stdout",
     "output_type": "stream",
     "text": [
      " \n"
     ]
    }
   ],
   "source": [
    "# print T['t']\n",
    "print generate_next(\"t\", diversity=.50)"
   ]
  },
  {
   "cell_type": "code",
   "execution_count": 259,
   "metadata": {
    "collapsed": false
   },
   "outputs": [
    {
     "name": "stdout",
     "output_type": "stream",
     "text": [
      "korean war this time i could be scottish wind turbines useless. well, great again. we have protesters. lie. we're not list. let the speak. tony reported that took a short test-fired very good to help me says @donaldtrump government with @rosie and went hosted by @timtebow is never said in the great again #bamafortrump increase in the rawness, cowards is problem is totally all my first time favourite could expectation deficit with the @nytimes we had in business i have an awesome! #trump2016 #muchrespect you are plans for president to be set up approval ratings.. then he's the one heck rt @realdonaldtrump rally: stocks and lies at they can be great when the sad situation &amp; libya operation is too small candidate, in life. it was one of mo. trump i hope that separates that state!. \"@ashley judd—simply to me in the truth.\". \"@chrisstackstacy thank you for your leaders as well done, including his disease that obama's dnc service at #trumpvlog south carolina ‘cliff’: ‘other couldn't norman has a great stupid reputational hotel and very interest. she will be tweet @realdonaldtrump takes overseas intense and investigation, north korea problem is such time to general/secret behind thank you.. .@trumpwi #wiprimary https://t.co/ox5cpez5bz http://t.co/ctb9g0sal0. \"@justin!. \"@sirmiestro: wishing from my stances on the change. what donaldtrump and @mittromney. we need someone with him and his first! this morning in the starting the grounds of people and keep on as your momentum is postedtoronto @mdamelincourt just gave our promised we will be stopping us on herald by tangible in the nfl has my predictions to the president!!!!\". my @foxandfriends @realdonaldtrump for president!\". china has solid 10!. \"@mikee116 if you @morning of the debates. i will make america great advice to handle their market is brewing. will be raise they this golf this is the planet by @capetown58 obama is 'unprecedented. glenfiddich gave the first http://t.co/hhc1ogv7ze\". “be tough guy romney dumb\n"
     ]
    }
   ],
   "source": [
    "ind = int(np.random.random()*(len(data)-order))\n",
    "initial_state = 'korean'#data[ind:ind+order]\n",
    "ctx = initial_state\n",
    "\n",
    "sentence = '' + ctx\n",
    "\n",
    "for ix in range(2000):\n",
    "    nxt = generate_next(ctx, diversity=0.8)\n",
    "    sentence += nxt\n",
    "    ctx = sentence[-order:]\n",
    "\n",
    "print sentence"
   ]
  },
  {
   "cell_type": "code",
   "execution_count": null,
   "metadata": {
    "collapsed": false
   },
   "outputs": [],
   "source": []
  },
  {
   "cell_type": "code",
   "execution_count": null,
   "metadata": {
    "collapsed": false
   },
   "outputs": [],
   "source": []
  },
  {
   "cell_type": "code",
   "execution_count": null,
   "metadata": {
    "collapsed": false
   },
   "outputs": [],
   "source": []
  }
 ],
 "metadata": {
  "kernelspec": {
   "display_name": "Python 2",
   "language": "python",
   "name": "python2"
  },
  "language_info": {
   "codemirror_mode": {
    "name": "ipython",
    "version": 2
   },
   "file_extension": ".py",
   "mimetype": "text/x-python",
   "name": "python",
   "nbconvert_exporter": "python",
   "pygments_lexer": "ipython2",
   "version": "2.7.12"
  }
 },
 "nbformat": 4,
 "nbformat_minor": 2
}
