{
 "cells": [
  {
   "cell_type": "code",
   "execution_count": 1,
   "metadata": {
    "collapsed": true
   },
   "outputs": [],
   "source": [
    "import numpy as np\n",
    "import torch\n",
    "import torch.nn as nn\n",
    "import torch.nn.functional as F\n",
    "import pandas as pd\n",
    "import seaborn as sns\n",
    "\n",
    "from torch.autograd import Variable\n",
    "from matplotlib import pyplot as plt\n",
    "%matplotlib inline"
   ]
  },
  {
   "cell_type": "code",
   "execution_count": 2,
   "metadata": {
    "collapsed": true
   },
   "outputs": [],
   "source": [
    "def generate_data(N, dim=32, attention_col=1):\n",
    "    x = np.random.standard_normal(size=(N, dim))\n",
    "    y = np.random.randint(low=0, high=3, size=(N, 1))\n",
    "    x[:, attention_col] = y[:, 0]\n",
    "    return x, y"
   ]
  },
  {
   "cell_type": "code",
   "execution_count": 81,
   "metadata": {
    "collapsed": false
   },
   "outputs": [],
   "source": [
    "class Net(nn.Module):\n",
    "    def __init__(self, ndim=32):\n",
    "        super(Net, self).__init__()\n",
    "        self.attention = nn.Linear(ndim, ndim)\n",
    "        self.out = nn.Linear(ndim, 1)\n",
    "    \n",
    "    def attn(self, x):\n",
    "        p = F.softmax(self.attention(x))\n",
    "        return p\n",
    "        \n",
    "    def forward(self, x):\n",
    "        x = x*self.attn(x)\n",
    "        x = self.out(x)\n",
    "        return x"
   ]
  },
  {
   "cell_type": "code",
   "execution_count": 82,
   "metadata": {
    "collapsed": true
   },
   "outputs": [],
   "source": [
    "model = Net(ndim=64)"
   ]
  },
  {
   "cell_type": "code",
   "execution_count": 83,
   "metadata": {
    "collapsed": true
   },
   "outputs": [],
   "source": [
    "X, y = generate_data(1000, dim=64, attention_col=0)"
   ]
  },
  {
   "cell_type": "code",
   "execution_count": 84,
   "metadata": {
    "collapsed": false
   },
   "outputs": [
    {
     "data": {
      "text/plain": [
       "((1000, 64), (1000, 1))"
      ]
     },
     "execution_count": 84,
     "metadata": {},
     "output_type": "execute_result"
    }
   ],
   "source": [
    "X.shape, y.shape"
   ]
  },
  {
   "cell_type": "code",
   "execution_count": 85,
   "metadata": {
    "collapsed": false
   },
   "outputs": [
    {
     "name": "stdout",
     "output_type": "stream",
     "text": [
      "[ 2.         -2.09068456  0.11405453  0.64154966 -0.29817492 -0.66964515\n",
      "  0.30032585 -0.08318153  0.5987997   0.21352732 -0.08490699  0.82666886\n",
      "  0.45163526  0.31494914 -0.82337824  0.03937721  0.19410172  0.44327565\n",
      " -0.73044892 -0.17182248  0.85929378  0.62068901  0.18488756 -0.61636381\n",
      " -2.39086977  0.44363445  1.91554619  1.63624793 -1.61618411 -0.07535278\n",
      "  0.91866015 -0.16102365  1.14327666  1.92975856 -0.93425161  1.74193746\n",
      " -0.02677865  0.97725912 -1.13682043  0.469596   -0.27217319  1.46526663\n",
      "  1.11104787  1.85219651  0.74160856 -0.94769899 -0.51018172 -0.0816833\n",
      " -1.06458725 -1.65021962 -0.95537009  0.01807211 -1.75735026  1.57079269\n",
      " -0.73843006  1.76407329  0.88343291 -1.08873464  1.61252319 -0.3823255\n",
      " -0.50242332  1.04845229 -0.27469207 -0.93618533] [2]\n"
     ]
    }
   ],
   "source": [
    "print X[43], y[43]"
   ]
  },
  {
   "cell_type": "code",
   "execution_count": 86,
   "metadata": {
    "collapsed": false
   },
   "outputs": [],
   "source": [
    "optimizer = torch.optim.Adam(model.parameters(), lr=0.001)\n",
    "lossfn = torch.nn.MSELoss()"
   ]
  },
  {
   "cell_type": "code",
   "execution_count": 87,
   "metadata": {
    "collapsed": false
   },
   "outputs": [
    {
     "name": "stderr",
     "output_type": "stream",
     "text": [
      "/usr/local/lib/python2.7/dist-packages/ipykernel/__main__.py:8: UserWarning: Implicit dimension choice for softmax has been deprecated. Change the call to include dim=X as an argument.\n"
     ]
    },
    {
     "name": "stdout",
     "output_type": "stream",
     "text": [
      "0 tensor(1.4288)\n",
      "200 tensor(0.6313)\n",
      "400 tensor(0.1872)\n",
      "600 tensor(1.00000e-02 *\n",
      "       7.2568)\n",
      "800 tensor(1.00000e-02 *\n",
      "       4.0132)\n",
      "1000 tensor(1.00000e-02 *\n",
      "       2.7296)\n",
      "1200 tensor(1.00000e-02 *\n",
      "       2.0877)\n",
      "1400 tensor(1.00000e-02 *\n",
      "       1.6522)\n",
      "1600 tensor(1.00000e-02 *\n",
      "       1.3191)\n",
      "1800 tensor(1.00000e-02 *\n",
      "       1.1291)\n",
      "2000 tensor(1.00000e-03 *\n",
      "       8.8215)\n",
      "2200 tensor(1.00000e-03 *\n",
      "       7.7838)\n",
      "2400 tensor(1.00000e-03 *\n",
      "       6.6559)\n",
      "2600 tensor(1.00000e-03 *\n",
      "       5.3631)\n",
      "2800 tensor(1.00000e-03 *\n",
      "       4.5698)\n",
      "3000 tensor(1.00000e-03 *\n",
      "       4.0180)\n",
      "3200 tensor(1.00000e-03 *\n",
      "       3.3260)\n",
      "3400 tensor(1.00000e-03 *\n",
      "       2.4587)\n",
      "3600 tensor(1.00000e-03 *\n",
      "       2.1648)\n",
      "3800 tensor(1.00000e-03 *\n",
      "       1.9523)\n"
     ]
    }
   ],
   "source": [
    "for epoch in range(4000):\n",
    "    pred = model(torch.FloatTensor(X))\n",
    "    \n",
    "    loss = lossfn(pred, torch.FloatTensor(y))\n",
    "    optimizer.zero_grad()\n",
    "    \n",
    "    loss.backward()\n",
    "    optimizer.step()\n",
    "    \n",
    "    if epoch % 200 == 0:\n",
    "        print epoch, loss"
   ]
  },
  {
   "cell_type": "code",
   "execution_count": 88,
   "metadata": {
    "collapsed": false
   },
   "outputs": [
    {
     "name": "stdout",
     "output_type": "stream",
     "text": [
      "torch.Size([1000, 1])\n"
     ]
    },
    {
     "name": "stderr",
     "output_type": "stream",
     "text": [
      "/usr/local/lib/python2.7/dist-packages/ipykernel/__main__.py:8: UserWarning: Implicit dimension choice for softmax has been deprecated. Change the call to include dim=X as an argument.\n"
     ]
    }
   ],
   "source": [
    "o = model(torch.FloatTensor(X))\n",
    "print o.shape"
   ]
  },
  {
   "cell_type": "code",
   "execution_count": 89,
   "metadata": {
    "collapsed": false,
    "scrolled": true
   },
   "outputs": [
    {
     "name": "stdout",
     "output_type": "stream",
     "text": [
      "torch.Size([1000, 64])\n"
     ]
    },
    {
     "name": "stderr",
     "output_type": "stream",
     "text": [
      "/usr/local/lib/python2.7/dist-packages/ipykernel/__main__.py:8: UserWarning: Implicit dimension choice for softmax has been deprecated. Change the call to include dim=X as an argument.\n"
     ]
    }
   ],
   "source": [
    "a = model.attn(torch.FloatTensor(X))\n",
    "print a.shape"
   ]
  },
  {
   "cell_type": "code",
   "execution_count": 90,
   "metadata": {
    "collapsed": false
   },
   "outputs": [],
   "source": [
    "k = a.data.numpy().mean(0)"
   ]
  },
  {
   "cell_type": "code",
   "execution_count": 91,
   "metadata": {
    "collapsed": true
   },
   "outputs": [],
   "source": [
    "import pandas as pd"
   ]
  },
  {
   "cell_type": "code",
   "execution_count": 92,
   "metadata": {
    "collapsed": false
   },
   "outputs": [
    {
     "name": "stdout",
     "output_type": "stream",
     "text": [
      "[0.15669705 0.01621643 0.00042645 0.01335718 0.00976718 0.02143238\n",
      " 0.01771743 0.00994703 0.01203639 0.00953755 0.00042049 0.00047671\n",
      " 0.01895436 0.00991868 0.01648286 0.0230508  0.00045058 0.00938775\n",
      " 0.01317345 0.02160912 0.00763146 0.00873558 0.02888333 0.01393789\n",
      " 0.01756506 0.01192493 0.02057106 0.01543912 0.01591057 0.0114369\n",
      " 0.01439213 0.01373999 0.01299743 0.00684363 0.022208   0.02002126\n",
      " 0.01304025 0.01701249 0.01414059 0.01209748 0.01779367 0.01030369\n",
      " 0.01256987 0.00034324 0.02095759 0.0161114  0.00971937 0.01593683\n",
      " 0.01218164 0.02438933 0.00037978 0.01866604 0.02074818 0.02309609\n",
      " 0.00046371 0.02447929 0.01923825 0.01969794 0.00689671 0.01146185\n",
      " 0.00059324 0.00987342 0.00972839 0.01478114]\n"
     ]
    }
   ],
   "source": [
    "print k"
   ]
  },
  {
   "cell_type": "code",
   "execution_count": 93,
   "metadata": {
    "collapsed": false
   },
   "outputs": [
    {
     "data": {
      "image/png": "[encoded data removed]",
      "text/plain": [
       "<matplotlib.figure.Figure at 0x7f7368212210>"
      ]
     },
     "metadata": {},
     "output_type": "display_data"
    }
   ],
   "source": [
    "N = 0\n",
    "ds = pd.DataFrame(k, columns=['attention (%)'])\n",
    "ds.plot(kind='bar', title='Attention Mechanism')\n",
    "plt.show()"
   ]
  },
  {
   "cell_type": "code",
   "execution_count": null,
   "metadata": {
    "collapsed": false
   },
   "outputs": [],
   "source": []
  },
  {
   "cell_type": "code",
   "execution_count": null,
   "metadata": {
    "collapsed": false
   },
   "outputs": [],
   "source": []
  }
 ],
 "metadata": {
  "kernelspec": {
   "display_name": "Python 2",
   "language": "python",
   "name": "python2"
  },
  "language_info": {
   "codemirror_mode": {
    "name": "ipython",
    "version": 2
   },
   "file_extension": ".py",
   "mimetype": "text/x-python",
   "name": "python",
   "nbconvert_exporter": "python",
   "pygments_lexer": "ipython2",
   "version": "2.7.12"
  }
 },
 "nbformat": 4,
 "nbformat_minor": 2
}
